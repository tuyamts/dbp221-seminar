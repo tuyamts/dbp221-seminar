{
 "cells": [
  {
   "cell_type": "code",
   "execution_count": 5,
   "metadata": {
    "scrolled": true
   },
   "outputs": [
    {
     "name": "stdout",
     "output_type": "stream",
     "text": [
      "166833\n"
     ]
    }
   ],
   "source": [
    "#4\n",
    "import numpy as np\n",
    "sum_data1=0\n",
    "data1 = np.arange(1000)\n",
    "for i in data1:\n",
    "    if data1[i]%3==0:\n",
    "        sum_data1=sum_data1+data1[i]\n",
    "print(sum_data1)"
   ]
  },
  {
   "cell_type": "code",
   "execution_count": 6,
   "metadata": {},
   "outputs": [
    {
     "name": "stdout",
     "output_type": "stream",
     "text": [
      "('Oyun', 'Bat')\n"
     ]
    }
   ],
   "source": [
    "#3\n",
    "students = {\n",
    "    'Bat': 18,\n",
    "    'Oyun': 22,\n",
    "    'Dulam': 21,\n",
    "    'Suren': 20}\n",
    "max_key = max(students, key=students.get)\n",
    "min_key = min(students, key=students.get)\n",
    "return_value = max_key, min_key\n",
    "print(return_value)\n"
   ]
  },
  {
   "cell_type": "code",
   "execution_count": 42,
   "metadata": {},
   "outputs": [
    {
     "name": "stdout",
     "output_type": "stream",
     "text": [
      "6\n",
      "*\n",
      "**\n",
      "***\n",
      "****\n",
      "*****\n",
      "******\n"
     ]
    }
   ],
   "source": [
    "#1\n",
    "a = int(input())\n",
    "for i in range(1, a+1):\n",
    "    for j in range(1, i):\n",
    "        print(end='*')\n",
    "    print('*')"
   ]
  },
  {
   "cell_type": "code",
   "execution_count": 5,
   "metadata": {},
   "outputs": [
    {
     "name": "stdout",
     "output_type": "stream",
     "text": [
      "6\n",
      "*\n",
      "**\n",
      "***\n",
      "****\n",
      "*****\n",
      "******\n"
     ]
    }
   ],
   "source": [
    "#2\n",
    "a = int(input())\n",
    "for i in range(1, a+1):\n",
    "    l = ['*'*i]\n",
    "    for j in l:\n",
    "        print(j)"
   ]
  },
  {
   "cell_type": "markdown",
   "metadata": {},
   "source": []
  }
 ],
 "metadata": {
  "kernelspec": {
   "display_name": "Python 3",
   "language": "python",
   "name": "python3"
  },
  "language_info": {
   "codemirror_mode": {
    "name": "ipython",
    "version": 3
   },
   "file_extension": ".py",
   "mimetype": "text/x-python",
   "name": "python",
   "nbconvert_exporter": "python",
   "pygments_lexer": "ipython3",
   "version": "3.8.5"
  }
 },
 "nbformat": 4,
 "nbformat_minor": 4
}
