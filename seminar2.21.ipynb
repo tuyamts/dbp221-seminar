{
 "cells": [
  {
   "cell_type": "code",
   "execution_count": 4,
   "metadata": {},
   "outputs": [],
   "source": [
    "def my_function(x, y, z=1.5):\n",
    "    if z>1:\n",
    "            return z * (x + y)\n",
    "    else:\n",
    "        return z / (x + y)"
   ]
  },
  {
   "cell_type": "code",
   "execution_count": 5,
   "metadata": {},
   "outputs": [
    {
     "data": {
      "text/plain": [
       "0.06363636363636363"
      ]
     },
     "execution_count": 5,
     "metadata": {},
     "output_type": "execute_result"
    }
   ],
   "source": [
    "my_function(5, 6, z=0.7)"
   ]
  },
  {
   "cell_type": "code",
   "execution_count": 6,
   "metadata": {},
   "outputs": [
    {
     "data": {
      "text/plain": [
       "35.49"
      ]
     },
     "execution_count": 6,
     "metadata": {},
     "output_type": "execute_result"
    }
   ],
   "source": [
    "my_function(3.14, 7, z=3.5)"
   ]
  },
  {
   "cell_type": "code",
   "execution_count": 7,
   "metadata": {},
   "outputs": [
    {
     "name": "stdout",
     "output_type": "stream",
     "text": [
      "['inside', 0, 1, 2, 3, 4]\n",
      "['outside']\n"
     ]
    }
   ],
   "source": [
    "a=[\"outside\"]\n",
    "def func():\n",
    "    a = [\"inside\"]\n",
    "    for i in range (5):\n",
    "        a.append(i)\n",
    "    print(a)\n",
    "func()\n",
    "print(a)"
   ]
  },
  {
   "cell_type": "code",
   "execution_count": 8,
   "metadata": {},
   "outputs": [
    {
     "name": "stdout",
     "output_type": "stream",
     "text": [
      "['inside', 0, 1, 2, 3, 4]\n",
      "['inside', 0, 1, 2, 3, 4]\n"
     ]
    }
   ],
   "source": [
    "a=[\"outside\"]\n",
    "def func():\n",
    "    global a\n",
    "    a = [\"inside\"]\n",
    "    for i in range (5):\n",
    "        a.append(i)\n",
    "    print(a)\n",
    "func()\n",
    "print(a)"
   ]
  },
  {
   "cell_type": "code",
   "execution_count": 9,
   "metadata": {},
   "outputs": [
    {
     "name": "stdout",
     "output_type": "stream",
     "text": [
      "5 6 7\n"
     ]
    }
   ],
   "source": [
    "def f():\n",
    "    a=5\n",
    "    b=6\n",
    "    c=7\n",
    "    return a, b, c\n",
    "a, b, c = f()\n",
    "print(a, b, c)"
   ]
  },
  {
   "cell_type": "code",
   "execution_count": 12,
   "metadata": {},
   "outputs": [
    {
     "name": "stdout",
     "output_type": "stream",
     "text": [
      "(5, 6, 7)\n"
     ]
    }
   ],
   "source": [
    "def f():\n",
    "    a=5\n",
    "    b=6\n",
    "    c=7\n",
    "    return a, b, c\n",
    "return_value = f()\n",
    "print(return_value)"
   ]
  },
  {
   "cell_type": "code",
   "execution_count": 15,
   "metadata": {},
   "outputs": [
    {
     "ename": "SyntaxError",
     "evalue": "invalid syntax (<ipython-input-15-ffbc8d882d61>, line 5)",
     "output_type": "error",
     "traceback": [
      "\u001b[1;36m  File \u001b[1;32m\"<ipython-input-15-ffbc8d882d61>\"\u001b[1;36m, line \u001b[1;32m5\u001b[0m\n\u001b[1;33m    returns ('a' : a, 'b' : b, 'c' : c)\u001b[0m\n\u001b[1;37m                 ^\u001b[0m\n\u001b[1;31mSyntaxError\u001b[0m\u001b[1;31m:\u001b[0m invalid syntax\n"
     ]
    }
   ],
   "source": [
    "def f():\n",
    "    a=5\n",
    "    b=6\n",
    "    c=7\n",
    "    returns ('a' : a, 'b' : b, 'c' : c)\n",
    "x = f()\n",
    "print(x)"
   ]
  },
  {
   "cell_type": "code",
   "execution_count": 16,
   "metadata": {},
   "outputs": [
    {
     "name": "stdout",
     "output_type": "stream",
     "text": [
      "['Alabama ', 'Georgial', 'Georgia', 'georgia', 'Fl0ridia', 'south carolina##', 'West virginia?']\n"
     ]
    }
   ],
   "source": [
    "states = ['Alabama ', 'Georgial', 'Georgia', 'georgia', 'Fl0ridia', 'south carolina##', 'West virginia?']\n",
    "print(states)"
   ]
  },
  {
   "cell_type": "code",
   "execution_count": 22,
   "metadata": {},
   "outputs": [
    {
     "name": "stdout",
     "output_type": "stream",
     "text": [
      "['Alabama', 'Georgial', 'Georgia', 'Georgia', 'Floridia', 'South Carolina', 'West Virginia']\n"
     ]
    }
   ],
   "source": [
    "#ugugdul tseverleh\n",
    "import re\n",
    "states = ['Alabama ', 'Georgial', 'Georgia', 'georgia', 'FlOridia', 'south carolina##', 'West virginia?']\n",
    "def clean_strings(strings):\n",
    "    result=[]\n",
    "    for value in strings:\n",
    "        value = value.strip() #zai hasah\n",
    "        value = re.sub('[!#?]', '', value)\n",
    "        value = value.title() #tom vseg \n",
    "        result.append(value) #result valua gaar urugjuuleh\n",
    "    return result\n",
    "print(clean_strings(states))\n",
    "\n",
    "        "
   ]
  },
  {
   "cell_type": "code",
   "execution_count": null,
   "metadata": {},
   "outputs": [],
   "source": []
  },
  {
   "cell_type": "code",
   "execution_count": 20,
   "metadata": {},
   "outputs": [
    {
     "name": "stdout",
     "output_type": "stream",
     "text": [
      "['Alabama', 'Georgial', 'Georgia', 'Georgia', 'Floridia', 'South Carolina', 'West Virginia']\n"
     ]
    }
   ],
   "source": [
    "#ugugdul tseverleh\n",
    "def remove_punctuation(value):\n",
    "    return re.sub('[!#?>]', '', value)\n",
    "clean_ops = [str.strip, remove_punctuation, str.title]\n",
    "def clean_strings(strings, ops):\n",
    "    result = []\n",
    "    for value in strings:\n",
    "        for function in ops:\n",
    "            value = function(value)\n",
    "        result.append(value)\n",
    "    return result\n",
    "print(clean_strings(states, clean_ops))"
   ]
  },
  {
   "cell_type": "code",
   "execution_count": 23,
   "metadata": {},
   "outputs": [
    {
     "name": "stdout",
     "output_type": "stream",
     "text": [
      "[1, 2, 3, 4, 5, 6, 7, 8, 9, 10, 11, 12]\n",
      "[2, 4, 6, 8, 10, 12]\n"
     ]
    }
   ],
   "source": [
    "#lambda ashiglah ni\n",
    "number = [1,2,3,4,5,6,7,8,9,10,11,12]\n",
    "even = list(filter(lambda x: x%2==0, number))\n",
    "print(number)\n",
    "print(even)"
   ]
  },
  {
   "cell_type": "code",
   "execution_count": 24,
   "metadata": {},
   "outputs": [
    {
     "name": "stdout",
     "output_type": "stream",
     "text": [
      "33\n"
     ]
    }
   ],
   "source": [
    "def myfunc(n):\n",
    "    return lambda a : a*n\n",
    "mytripler = myfunc(3)\n",
    "print(mytripler(11))"
   ]
  },
  {
   "cell_type": "code",
   "execution_count": 25,
   "metadata": {},
   "outputs": [
    {
     "name": "stdout",
     "output_type": "stream",
     "text": [
      "24\n",
      "24\n"
     ]
    }
   ],
   "source": [
    "def short_function(x):\n",
    "    return x * 2\n",
    "multiplex2=lambda x:x * 2\n",
    "print(short_function(12))\n",
    "print(multiplex2(12))"
   ]
  },
  {
   "cell_type": "code",
   "execution_count": 28,
   "metadata": {},
   "outputs": [
    {
     "name": "stdout",
     "output_type": "stream",
     "text": [
      "[2, 4, 6, 8, 10, 12]\n"
     ]
    }
   ],
   "source": [
    "#lambda ashiglah ni\n",
    "number = [1,2,3,4,5,6,7,8,9,10,11,12]\n",
    "def even_num(list1):\n",
    "    d=[]\n",
    "    for i in list1:\n",
    "        if i % 2 == 0:\n",
    "            d.append(i)\n",
    "    return d\n",
    "print(even_num(number))"
   ]
  },
  {
   "cell_type": "code",
   "execution_count": null,
   "metadata": {},
   "outputs": [],
   "source": []
  }
 ],
 "metadata": {
  "kernelspec": {
   "display_name": "Python 3",
   "language": "python",
   "name": "python3"
  },
  "language_info": {
   "codemirror_mode": {
    "name": "ipython",
    "version": 3
   },
   "file_extension": ".py",
   "mimetype": "text/x-python",
   "name": "python",
   "nbconvert_exporter": "python",
   "pygments_lexer": "ipython3",
   "version": "3.8.5"
  }
 },
 "nbformat": 4,
 "nbformat_minor": 4
}
