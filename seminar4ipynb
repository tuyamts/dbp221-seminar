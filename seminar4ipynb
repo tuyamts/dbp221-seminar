{
 "cells": [
  {
   "cell_type": "code",
   "execution_count": 17,
   "metadata": {
    "scrolled": true
   },
   "outputs": [
    {
     "data": {
      "text/plain": [
       "array([50, 51, 52, 53, 54, 55, 56, 57, 58, 59, 60, 61, 62, 63, 64, 65, 66,\n",
       "       67, 68, 69, 70, 71, 72, 73, 74, 75, 76, 77, 78, 79, 80, 81, 82, 83,\n",
       "       84, 85, 86, 87, 88, 89, 90, 91, 92, 93, 94, 95, 96, 97, 98, 99])"
      ]
     },
     "execution_count": 17,
     "metadata": {},
     "output_type": "execute_result"
    }
   ],
   "source": [
    "#1\n",
    "import numpy as np\n",
    "data2 = np.arange(50, 100)\n",
    "data2\n"
   ]
  },
  {
   "cell_type": "code",
   "execution_count": 29,
   "metadata": {
    "scrolled": false
   },
   "outputs": [
    {
     "data": {
      "text/plain": [
       "(array([0., 0., 0., 0., 0., 0., 0., 0., 0., 0.]),\n",
       " array([1., 1., 1., 1., 1., 1., 1., 1., 1., 1.]),\n",
       " array([6., 6., 6., 6., 6., 6., 6., 6., 6., 6.]))"
      ]
     },
     "execution_count": 29,
     "metadata": {},
     "output_type": "execute_result"
    }
   ],
   "source": [
    "#2\n",
    "import numpy as np\n",
    "a1 = np.zeros(10)\n",
    "a2 = np.ones(10)\n",
    "a3 = np.zeros(10)+6\n",
    "a1, a2, a3\n",
    "\n"
   ]
  },
  {
   "cell_type": "code",
   "execution_count": 18,
   "metadata": {},
   "outputs": [
    {
     "name": "stdout",
     "output_type": "stream",
     "text": [
      "[[20 21 22 23]\n",
      " [24 25 26 27]\n",
      " [28 29 30 31]]\n"
     ]
    }
   ],
   "source": [
    "#3\n",
    "import numpy as np\n",
    "data2 = np.arange(20, 32)\n",
    "a = np.reshape(data2, (3,4))\n",
    "print(a)\n",
    "\n"
   ]
  },
  {
   "cell_type": "code",
   "execution_count": 33,
   "metadata": {},
   "outputs": [
    {
     "name": "stdout",
     "output_type": "stream",
     "text": [
      "[[1. 0. 0.]\n",
      " [0. 1. 0.]\n",
      " [0. 0. 1.]]\n"
     ]
    }
   ],
   "source": [
    "#4\n",
    "import numpy as np\n",
    "x = np.eye(3)\n",
    "print(x)"
   ]
  },
  {
   "cell_type": "code",
   "execution_count": 35,
   "metadata": {
    "scrolled": true
   },
   "outputs": [
    {
     "name": "stdout",
     "output_type": "stream",
     "text": [
      "[[1 0 0 0 0]\n",
      " [0 2 0 0 0]\n",
      " [0 0 3 0 0]\n",
      " [0 0 0 4 0]\n",
      " [0 0 0 0 5]]\n"
     ]
    }
   ],
   "source": [
    "#5\n",
    "import numpy as np\n",
    "x = np.diag([1, 2, 3, 4, 5])\n",
    "\n",
    "print(x)\n"
   ]
  },
  {
   "cell_type": "code",
   "execution_count": 38,
   "metadata": {
    "scrolled": true
   },
   "outputs": [
    {
     "name": "stdout",
     "output_type": "stream",
     "text": [
      "51\n",
      "[ 7  9 13 14  8]\n",
      "[29 22]\n"
     ]
    }
   ],
   "source": [
    "#6\n",
    "import numpy as np\n",
    "a1 = [[5,5, 7,8,4], [2,4,6,6,4]]\n",
    "arr1 = np.array(a1)\n",
    "a = sum(map(sum, arr1))\n",
    "print(a)\n",
    "print(np.sum(arr1, axis = 0))\n",
    "print(np.sum(arr1, axis = 1))\n",
    "\n"
   ]
  },
  {
   "cell_type": "code",
   "execution_count": 4,
   "metadata": {},
   "outputs": [
    {
     "name": "stderr",
     "output_type": "stream",
     "text": [
      "<ipython-input-4-8f02e14b10e8>:38: VisibleDeprecationWarning: Creating an ndarray from ragged nested sequences (which is a list-or-tuple of lists-or-tuples-or ndarrays with different lengths or shapes) is deprecated. If you meant to do this, you must specify 'dtype=object' when creating the ndarray\n",
      "  Games = np.array([KobeBryant_G, JoeJohnson_G, LeBronJames_G, CarmeloAnthony_G, DwightHoward_G, ChrisBosh_G, ChrisPaul_G, KevinDurant_G, DerrickRose_G, DwayneWade_G])\n"
     ]
    }
   ],
   "source": [
    "#7\n",
    "import numpy as np\n",
    "\n",
    "#Seasons\n",
    "Seasons = [\"2012\",\"2013\",\"2014\",\"2015\",\"2016\",\"2017\",\"2018\",\"2019\",\"2020\",\"2021\"]\n",
    "Sdict = {\"2005\":0,\"2006\":1,\"2007\":2,\"2008\":3,\"2009\":4,\"2010\":5,\"2011\":6,\"2012\":7,\"2013\":8,\"2014\":9}\n",
    "\n",
    "#Players\n",
    "Players = [\"KobeBryant\",\"JoeJohnson\",\"LeBronJames\",\"CarmeloAnthony\",\"DwightHoward\",\"ChrisBosh\",\"ChrisPaul\",\"KevinDurant\",\"DerrickRose\",\"DwayneWade\"]\n",
    "Pdict = {\"KobeBryant\":0,\"JoeJohnson\":1,\"LeBronJames\":2,\"CarmeloAnthony\":3,\"DwightHoward\":4,\"ChrisBosh\":5,\"ChrisPaul\":6,\"KevinDurant\":7,\"DerrickRose\":8,\"DwayneWade\":9}\n",
    "\n",
    "#Salaries\n",
    "KobeBryant_Salary = [27849149,30453805,23500000, 250000000,0,0,0,0,0,0]\n",
    "JoeJohnson_Salary = [19752645,21466718,23180790, 22309344,11000000,10254904,0,0,0,0]\n",
    "LeBronJames_Salary = [17545000,19067500,20644400, 22970500,30963450,33285709,35654150,37436858,39219566,0]\n",
    "CarmeloAnthony_Salary = [19450000,22407474,22458000, 22875000,24559380,26243760,2393887,2159029,2564753,0]\n",
    "DwightHoward_Salary = [19536360,20513178,21436271,22359364,23180275, 23500000, 24256725, 5443553, 2564753, 2641691]\n",
    "ChrisBosh_Salary = [17545000,19067500,20644400,22192730, 23741060, 25289390, 26837720, 0,0,0]\n",
    "ChrisPaul_Salary = [17779458,18668431,20068563,21468695, 22868827,24268959, 35654150, 38506482, 41358814, 30800000]\n",
    "KevinDurant_Salary = [16669630,17832627,18995624,20158622, 26540100, 25000000, 30000000, 38199000, 38771513, 42018900]\n",
    "DerrickRose_Salary = [16402500,17632688,18862875, 20093064, 21323252, 2525077, 2393887, 6859756, 7682927, 13445120]\n",
    "DwayneWade_Salary = [17182000,18673000,15000000, 20000000, 23200000, 17878652, 2393887, 0,0,0]\n",
    "#Matrix\n",
    "Salary = np.array([KobeBryant_Salary, JoeJohnson_Salary, LeBronJames_Salary, CarmeloAnthony_Salary, DwightHoward_Salary, ChrisBosh_Salary, ChrisPaul_Salary, KevinDurant_Salary, DerrickRose_Salary, DwayneWade_Salary])\n",
    "\n",
    "#Games \n",
    "KobeBryant_G = [78,6,35, 66,0,0,0,0,0,0]\n",
    "JoeJohnson_G = [72,79,80, 81, 57, 24, 78, 55, 0,0,0,1]\n",
    "LeBronJames_G = [76,77,69,76, 74, 82, 55, 67, 45, 48]\n",
    "CarmeloAnthony_G = [67,77,40, 72,74,78,2,58,3,3 ]\n",
    "DwightHoward_G = [76,71,41,71, 74, 81,9, 69,69,47]\n",
    "ChrisBosh_G = [74,79,44, 53,0,0,0,0,0,0]\n",
    "ChrisPaul_G = [70,62,82,74,61,58,58,70,70,58]\n",
    "KevinDurant_G = [81,81,27, 72,62,68,78,0,32]\n",
    "DerrickRose_G = [0,10,51,66,64,25,51,50,50, 26 ]\n",
    "DwayneWade_G = [69,54,62, 74, 60, 67, 72,0,0,0]\n",
    "#Matrix\n",
    "Games = np.array([KobeBryant_G, JoeJohnson_G, LeBronJames_G, CarmeloAnthony_G, DwightHoward_G, ChrisBosh_G, ChrisPaul_G, KevinDurant_G, DerrickRose_G, DwayneWade_G])\n",
    "#Field Goals\n",
    "KobeBryant_FG = [738,31,266, 398, 0,0,0,0,0,0]\n",
    "JoeJohnson_FG = [445,462,446, 377, 273, 146, 0,0,0,1]\n",
    "LeBronJames_FG = [765,767,624, 737, 736, 857, 558, 643, 422, 536 ]\n",
<<<<<<< HEAD:seminar4ipynb
    "CarmeloAnthony_FG = [669,743,358,567, 602, 472, 49, 336, 327, 270]\n",
=======
    "CarmeloAnthony_FG = [669,743,358,567, 602, 472, 49, 336, 327, 270 ]\n",
>>>>>>> refs/remotes/origin/main:seminar3.7.ipynb
    "DwightHoward_FG = [470,473,251, 372,388,506,43,202,178,9]\n",
    "ChrisBosh_FG = [485,492,343,358,0,0,0,0,0,0]\n",
    "ChrisPaul_FG = [412,406,568,515, 374, 367, 302, 434, 439, 325]\n",
    "KevinDurant_FG = [731,849,238,698, 551, 630, 721,0, 324, 417]\n",
    "DerrickRose_FG = [0,58,338,447, 460, 162, 363, 369, 287,122 ]\n",
    "DwayneWade_FG = [569,415,509, 540, 414, 508, 416,0,0,0]\n",
    "#Matrix\n",
    "FieldGoals  = np.array([KobeBryant_FG, JoeJohnson_FG, LeBronJames_FG, CarmeloAnthony_FG, DwightHoward_FG, ChrisBosh_FG, ChrisPaul_FG, KevinDurant_FG, DerrickRose_FG, DwayneWade_FG])\n"
   ]
  },
  {
   "cell_type": "code",
   "execution_count": 5,
   "metadata": {},
   "outputs": [
    {
     "name": "stdout",
     "output_type": "stream",
     "text": [
      "[189711742 205782921 204790923 444427319 207376344 188246451 159584406\n",
      " 128604678 132162326  88905711]\n",
      "[331802954 107964401 256787133 145111283 165432170 155317800 271442379\n",
      " 274186016 127221146 114327539]\n"
     ]
    }
   ],
   "source": [
    "import numpy as np\n",
    "arr1 = np.array(Salary)\n",
    "print(np.sum(arr1, axis = 0))\n",
    "print(np.sum(arr1, axis = 1))"
   ]
  },
  {
   "cell_type": "code",
   "execution_count": 6,
   "metadata": {},
   "outputs": [
    {
     "name": "stdout",
     "output_type": "stream",
     "text": [
      "[5284 4696 3941 5009 3798 3648 2452 1984 1977 1680]\n",
      "[1433 2150 6645 4393 2892 1678 4142 5159 2606 3371]\n"
     ]
    }
   ],
   "source": [
    "import numpy as np\n",
    "arr1 = np.array(FieldGoals)\n",
    "print(np.sum(arr1, axis = 0))\n",
    "print(np.sum(arr1, axis = 1))"
   ]
  },
  {
   "cell_type": "code",
   "execution_count": 7,
   "metadata": {},
   "outputs": [
    {
     "name": "stdout",
     "output_type": "stream",
     "text": [
      "[78, 6, 35, 66, 0, 0, 0, 0, 0, 0, 72, 79, 80, 81, 57, 24, 78, 55, 0, 0, 0, 1, 76, 77, 69, 76, 74, 82, 55, 67, 45, 48, 67, 77, 40, 72, 74, 78, 2, 58, 3, 3, 76, 71, 41, 71, 74, 81, 9, 69, 69, 47, 74, 79, 44, 53, 0, 0, 0, 0, 0, 0, 70, 62, 82, 74, 61, 58, 58, 70, 70, 58, 81, 81, 27, 72, 62, 68, 78, 0, 32, 0, 10, 51, 66, 64, 25, 51, 50, 50, 26, 69, 54, 62, 74, 60, 67, 72, 0, 0, 0]\n"
     ]
    },
    {
     "ename": "AxisError",
     "evalue": "axis 1 is out of bounds for array of dimension 1",
     "output_type": "error",
     "traceback": [
      "\u001b[1;31m---------------------------------------------------------------------------\u001b[0m",
      "\u001b[1;31mAxisError\u001b[0m                                 Traceback (most recent call last)",
      "\u001b[1;32m<ipython-input-7-b4b41d2bc2dc>\u001b[0m in \u001b[0;36m<module>\u001b[1;34m\u001b[0m\n\u001b[0;32m      2\u001b[0m \u001b[0marr1\u001b[0m \u001b[1;33m=\u001b[0m \u001b[0mnp\u001b[0m\u001b[1;33m.\u001b[0m\u001b[0marray\u001b[0m\u001b[1;33m(\u001b[0m\u001b[0mGames\u001b[0m\u001b[1;33m)\u001b[0m\u001b[1;33m\u001b[0m\u001b[1;33m\u001b[0m\u001b[0m\n\u001b[0;32m      3\u001b[0m \u001b[0mprint\u001b[0m\u001b[1;33m(\u001b[0m\u001b[0mnp\u001b[0m\u001b[1;33m.\u001b[0m\u001b[0msum\u001b[0m\u001b[1;33m(\u001b[0m\u001b[0marr1\u001b[0m\u001b[1;33m,\u001b[0m \u001b[0maxis\u001b[0m \u001b[1;33m=\u001b[0m \u001b[1;36m0\u001b[0m\u001b[1;33m)\u001b[0m\u001b[1;33m)\u001b[0m\u001b[1;33m\u001b[0m\u001b[1;33m\u001b[0m\u001b[0m\n\u001b[1;32m----> 4\u001b[1;33m \u001b[0mprint\u001b[0m\u001b[1;33m(\u001b[0m\u001b[0mnp\u001b[0m\u001b[1;33m.\u001b[0m\u001b[0msum\u001b[0m\u001b[1;33m(\u001b[0m\u001b[0marr1\u001b[0m\u001b[1;33m,\u001b[0m \u001b[0maxis\u001b[0m \u001b[1;33m=\u001b[0m \u001b[1;36m1\u001b[0m\u001b[1;33m)\u001b[0m\u001b[1;33m)\u001b[0m\u001b[1;33m\u001b[0m\u001b[1;33m\u001b[0m\u001b[0m\n\u001b[0m",
      "\u001b[1;32m<__array_function__ internals>\u001b[0m in \u001b[0;36msum\u001b[1;34m(*args, **kwargs)\u001b[0m\n",
      "\u001b[1;32m~\\anaconda3\\lib\\site-packages\\numpy\\core\\fromnumeric.py\u001b[0m in \u001b[0;36msum\u001b[1;34m(a, axis, dtype, out, keepdims, initial, where)\u001b[0m\n\u001b[0;32m   2239\u001b[0m         \u001b[1;32mreturn\u001b[0m \u001b[0mres\u001b[0m\u001b[1;33m\u001b[0m\u001b[1;33m\u001b[0m\u001b[0m\n\u001b[0;32m   2240\u001b[0m \u001b[1;33m\u001b[0m\u001b[0m\n\u001b[1;32m-> 2241\u001b[1;33m     return _wrapreduction(a, np.add, 'sum', axis, dtype, out, keepdims=keepdims,\n\u001b[0m\u001b[0;32m   2242\u001b[0m                           initial=initial, where=where)\n\u001b[0;32m   2243\u001b[0m \u001b[1;33m\u001b[0m\u001b[0m\n",
      "\u001b[1;32m~\\anaconda3\\lib\\site-packages\\numpy\\core\\fromnumeric.py\u001b[0m in \u001b[0;36m_wrapreduction\u001b[1;34m(obj, ufunc, method, axis, dtype, out, **kwargs)\u001b[0m\n\u001b[0;32m     85\u001b[0m                 \u001b[1;32mreturn\u001b[0m \u001b[0mreduction\u001b[0m\u001b[1;33m(\u001b[0m\u001b[0maxis\u001b[0m\u001b[1;33m=\u001b[0m\u001b[0maxis\u001b[0m\u001b[1;33m,\u001b[0m \u001b[0mout\u001b[0m\u001b[1;33m=\u001b[0m\u001b[0mout\u001b[0m\u001b[1;33m,\u001b[0m \u001b[1;33m**\u001b[0m\u001b[0mpasskwargs\u001b[0m\u001b[1;33m)\u001b[0m\u001b[1;33m\u001b[0m\u001b[1;33m\u001b[0m\u001b[0m\n\u001b[0;32m     86\u001b[0m \u001b[1;33m\u001b[0m\u001b[0m\n\u001b[1;32m---> 87\u001b[1;33m     \u001b[1;32mreturn\u001b[0m \u001b[0mufunc\u001b[0m\u001b[1;33m.\u001b[0m\u001b[0mreduce\u001b[0m\u001b[1;33m(\u001b[0m\u001b[0mobj\u001b[0m\u001b[1;33m,\u001b[0m \u001b[0maxis\u001b[0m\u001b[1;33m,\u001b[0m \u001b[0mdtype\u001b[0m\u001b[1;33m,\u001b[0m \u001b[0mout\u001b[0m\u001b[1;33m,\u001b[0m \u001b[1;33m**\u001b[0m\u001b[0mpasskwargs\u001b[0m\u001b[1;33m)\u001b[0m\u001b[1;33m\u001b[0m\u001b[1;33m\u001b[0m\u001b[0m\n\u001b[0m\u001b[0;32m     88\u001b[0m \u001b[1;33m\u001b[0m\u001b[0m\n\u001b[0;32m     89\u001b[0m \u001b[1;33m\u001b[0m\u001b[0m\n",
      "\u001b[1;31mAxisError\u001b[0m: axis 1 is out of bounds for array of dimension 1"
     ]
    }
   ],
   "source": [
    "import numpy as np\n",
    "arr1 = np.array(Games)\n",
    "print(np.sum(arr1, axis = 0))\n",
    "print(np.sum(arr1, axis = 1))"
   ]
  },
  {
   "cell_type": "code",
   "execution_count": null,
   "metadata": {},
   "outputs": [],
   "source": []
  }
 ],
 "metadata": {
  "kernelspec": {
   "display_name": "Python 3",
   "language": "python",
   "name": "python3"
  },
  "language_info": {
   "codemirror_mode": {
    "name": "ipython",
    "version": 3
   },
   "file_extension": ".py",
   "mimetype": "text/x-python",
   "name": "python",
   "nbconvert_exporter": "python",
   "pygments_lexer": "ipython3",
   "version": "3.8.5"
  }
 },
 "nbformat": 4,
 "nbformat_minor": 4
}
