{
 "cells": [
  {
   "cell_type": "code",
   "execution_count": 30,
   "metadata": {
    "scrolled": true
   },
   "outputs": [],
   "source": [
    "#8\n",
    "def my_function(x, y, z=1.5):\n",
    "    if x>y:\n",
    "        if x>z:\n",
    "            return x\n",
    "        else:\n",
    "            return z\n",
    "    else :\n",
    "        if y>z:\n",
    "            return y\n",
    "        else:\n",
    "            return z"
   ]
  },
  {
   "cell_type": "code",
   "execution_count": 31,
   "metadata": {
    "scrolled": false
   },
   "outputs": [
    {
     "data": {
      "text/plain": [
       "11"
      ]
     },
     "execution_count": 31,
     "metadata": {},
     "output_type": "execute_result"
    }
   ],
   "source": [
    "my_function(6, 8, 11)"
   ]
  },
  {
   "cell_type": "code",
   "execution_count": 11,
   "metadata": {},
   "outputs": [
    {
     "data": {
      "text/plain": [
       "11"
      ]
     },
     "execution_count": 11,
     "metadata": {},
     "output_type": "execute_result"
    }
   ],
   "source": [
    "my_function(9, 11, 6)"
   ]
  },
  {
   "cell_type": "code",
   "execution_count": 19,
   "metadata": {
    "scrolled": true
   },
   "outputs": [
    {
     "name": "stdout",
     "output_type": "stream",
     "text": [
      "жижиг 27 том 3\n"
     ]
    }
   ],
   "source": [
    "#2\n",
    "def upperlower(string):\n",
    "  \n",
    "    upper = 0\n",
    "    lower = 0\n",
    "  \n",
    "    for i in range(len(string)):\n",
    "          \n",
    "        # For lower letters\n",
    "        if (ord(string[i]) >= 97 and\n",
    "            ord(string[i]) <= 122):\n",
    "            lower += 1\n",
    "  \n",
    "        # For upper letters\n",
    "        elif (ord(string[i]) >= 65 and\n",
    "              ord(string[i]) <= 90):\n",
    "            upper += 1\n",
    "  \n",
    "    print('жижиг %s' %lower,\n",
    "          'том %s' %upper)\n",
    "string = 'GeeksforGeeks is a portal for Geeks'\n",
    "upperlower(string)"
   ]
  },
  {
   "cell_type": "code",
   "execution_count": 36,
   "metadata": {},
   "outputs": [
    {
     "ename": "TypeError",
     "evalue": "string indices must be integers",
     "output_type": "error",
     "traceback": [
      "\u001b[1;31m---------------------------------------------------------------------------\u001b[0m",
      "\u001b[1;31mTypeError\u001b[0m                                 Traceback (most recent call last)",
      "\u001b[1;32m<ipython-input-36-ec9f65076739>\u001b[0m in \u001b[0;36m<module>\u001b[1;34m\u001b[0m\n\u001b[1;32m----> 1\u001b[1;33m \u001b[0mx\u001b[0m\u001b[1;33m[\u001b[0m\u001b[1;36m1\u001b[0m\u001b[1;33m,\u001b[0m\u001b[1;36m3\u001b[0m\u001b[1;33m,\u001b[0m\u001b[1;36m4\u001b[0m\u001b[1;33m,\u001b[0m\u001b[1;36m6\u001b[0m\u001b[1;33m,\u001b[0m\u001b[1;36m7\u001b[0m\u001b[1;33m,\u001b[0m\u001b[1;36m8\u001b[0m\u001b[1;33m]\u001b[0m\u001b[1;33m\u001b[0m\u001b[1;33m\u001b[0m\u001b[0m\n\u001b[0m",
      "\u001b[1;31mTypeError\u001b[0m: string indices must be integers"
     ]
    }
   ],
   "source": []
  },
  {
   "cell_type": "code",
   "execution_count": 40,
   "metadata": {},
   "outputs": [
    {
     "name": "stdout",
     "output_type": "stream",
     "text": [
      "['a', 'b', 'c']\n"
     ]
    }
   ],
   "source": [
    "#7\n",
    "mylist = [\"a\", \"b\", \"a\", \"c\", \"c\"]\n",
    "mylist = list(dict.fromkeys(mylist))\n",
    "print(mylist)"
   ]
  },
  {
   "cell_type": "code",
   "execution_count": 45,
   "metadata": {},
   "outputs": [
    {
     "name": "stdout",
     "output_type": "stream",
     "text": [
      "120\n"
     ]
    }
   ],
   "source": [
    "#6\n",
    "list1 = [11, 35, 7, 33, 34]\n",
    "def sumOfList(list, a):\n",
    "   if (a == 0):\n",
    "     return 0\n",
    "   else:\n",
    "     return list[a - 1] + sumOfList(list, a - 1)\n",
    "   \n",
    "нийт = sumOfList(list1, len(list1))\n",
    " \n",
    "print( нийт)"
   ]
  },
  {
   "cell_type": "code",
   "execution_count": 43,
   "metadata": {},
   "outputs": [
    {
     "name": "stdout",
     "output_type": "stream",
     "text": [
      "['cccc', 'bbbbb', 'aaaa']\n"
     ]
    }
   ],
   "source": [
    "#5\n",
    "systems = ['aaaa', 'bbbbb', 'cccc']\n",
    "systems.reverse()\n",
    "print(systems)"
   ]
  },
  {
   "cell_type": "code",
   "execution_count": 47,
   "metadata": {},
   "outputs": [
    {
     "name": "stdout",
     "output_type": "stream",
     "text": [
      "24\n"
     ]
    }
   ],
   "source": [
    "#3\n",
    "aaaa = [2, 3, 4]\n",
    "s = 1\n",
    "\n",
    "for i in aaaa:\n",
    "    s=s*i\n",
    "\n",
    "print(s)"
   ]
  },
  {
   "cell_type": "code",
   "execution_count": 6,
   "metadata": {},
   "outputs": [
    {
     "name": "stdout",
     "output_type": "stream",
     "text": [
      "4\n",
      "24\n"
     ]
    }
   ],
   "source": [
    "#4\n",
    "a=input()\n",
    "m=1\n",
    "for i in range(1, int(a) + 1):\n",
    "    m=m*i\n",
    "print(m)\n"
   ]
  },
  {
   "cell_type": "code",
   "execution_count": 13,
   "metadata": {},
   "outputs": [
    {
     "name": "stdout",
     "output_type": "stream",
     "text": [
      "trt\n",
      "палиндром\n"
     ]
    }
   ],
   "source": [
    "#1 тоо байвал\n",
    "#num=int(input())\n",
    "#temp=num\n",
    "#rev=0\n",
    "#while(num>0):\n",
    "#    dig=num%10\n",
    "#    rev=rev*10+dig\n",
    "#    num=num//10\n",
    "#if(temp==rev):\n",
    "#    print(\"палиндром\")\n",
    "#else:\n",
    "#    print(\"палиндром биш\")\n",
    "# str baiwal\n",
    "string=input()\n",
    "if(string==string[::-1]):\n",
    "      print(\"палиндром\")\n",
    "else:\n",
    "      print(\"палиндром биш\")"
   ]
  },
  {
   "cell_type": "markdown",
   "metadata": {},
   "source": []
  }
 ],
 "metadata": {
  "kernelspec": {
   "display_name": "Python 3",
   "language": "python",
   "name": "python3"
  },
  "language_info": {
   "codemirror_mode": {
    "name": "ipython",
    "version": 3
   },
   "file_extension": ".py",
   "mimetype": "text/x-python",
   "name": "python",
   "nbconvert_exporter": "python",
   "pygments_lexer": "ipython3",
   "version": "3.8.5"
  }
 },
 "nbformat": 4,
 "nbformat_minor": 4
}
